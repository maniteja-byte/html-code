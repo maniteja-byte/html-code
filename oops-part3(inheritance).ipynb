{
  "metadata": {
    "language_info": {
      "codemirror_mode": {
        "name": "python",
        "version": 3
      },
      "file_extension": ".py",
      "mimetype": "text/x-python",
      "name": "python",
      "nbconvert_exporter": "python",
      "pygments_lexer": "ipython3",
      "version": "3.8"
    },
    "kernelspec": {
      "name": "python",
      "display_name": "Python (Pyodide)",
      "language": "python"
    }
  },
  "nbformat_minor": 4,
  "nbformat": 4,
  "cells": [
    {
      "cell_type": "raw",
      "source": "inheritance : it is basically inheriting the properties of the parent class. \n               if i want to inherit the properties of parent class is called as inheritnace\n               the major Benfit of inteheritqance is code resubality\n               \n               \n-> single inheritnace\nin the single inheritance we have simple on parent class and one child class.\n\n->multiple inheritnace\nin the multiple inhertitance we have two parent classes and one child class\n\n-> multi level inheritance\nin the multilevel inheritance we have one parent class and 2 child classes\n\nparent class\n               -> child class1 inherit the parent class properties\nchild class1\n                -> child class2 inherit the child class1 properties\nchild class2\n\n-> hierarchical inheritance : same parent class inherited multiple times \n \n \n \n                     parent class\n                     \n                     \n         childclass1  childclass2   childclass3\n\n\n->hybrid inheritance : i can inherit one parent class (or) parent and childclass at once (or) we can inherti one parent class and two child classes .\n\n                    parent class\n                    \n                    \n            child class1        child class2\n            \n            \n            \n                    child class 3\n\n            \n\n\nsyntax:\n\nclass parentclass:\n    {code}\n    \nclass derived calss(paren classs):\n    {code}\n    \n    \n    \n    \n    \n    \n    \n    \n    \n    \n    \n    \n    \n    \n    \n    \n    \n    \nSUPER Method: super().funcname     ,super(),__init__,    \n\n1.a. Super is used when we need to build classes(child class) that extend the functionality of previously build classes(parent class)\n1.b. super function is used to access methods of m=immediate parent class\n\n2. when you intialize a child in python you can call super().__init__() method this intializze the parent class obj into child class\n",
      "metadata": {}
    },
    {
      "cell_type": "code",
      "source": "class parent:\n    def func1(self):\n        print(\"heelo from parent class\")\n        \nclass child(parent):\n    def func2(self):\n        print(\"helo child\")\n        \n        \n        \ntest = child()\n\ntest.func2()   # we can call\ntest.func1()   # we can call\n\n\ntest1 = parent()\ntest1.func1()       # we can call\ntest1.func2()       # we can't call\n",
      "metadata": {
        "trusted": true
      },
      "execution_count": null,
      "outputs": []
    },
    {
      "cell_type": "code",
      "source": "class ineuron:\n    company_site = \"https://ineuron.ai\"\n    name = \"ineuron\"\n\n    def contact_det(self):\n        print(\"contact us at:\", self.company_site)\n        \nclass ds(ineuron):\n        \n    def __init__(self):\n        self.year_of_est = 2018\n     \n    def est_det(self):\n        prinbt(\"est_edtails\",self.name, \"is esatblished in\", self.year_of_est)\n        \n        \n        \n        \nneuro = ds()\n\nneuro.\n        \n            \n         \n    ",
      "metadata": {
        "trusted": true
      },
      "execution_count": null,
      "outputs": []
    },
    {
      "cell_type": "code",
      "source": "# multiple inheritance\\\\\n\n\nclass parent1:\n    def func1(self):\n        print(\"hello from parent 1\")\n        \nclass parent2:\n    def func2(self):\n        print(\"hello from parent 2\")\n\nclass child(parent1,parent2):\n    def func3:\n        print(\"Hello from child\")\n    \n    \ncl = child()\n\ncl.func1()\ncl.func2()\ncl.func3()\n",
      "metadata": {
        "trusted": true
      },
      "execution_count": null,
      "outputs": []
    },
    {
      "cell_type": "code",
      "source": "class batch_num:\n    batch_number = \"\"\n    def __init__(self,a,b,c):\n        self.a = a\n        self.b =b\n        self.c=c\n    def batch (self):\n        print(self.batch_number)\n\n        \n        \nclass course_name:\n    course_n=\"\"\n    \n    def course(self):\n        print(self.course_n)\n        \nclass student(batch_num,course_name):\n    \n    def show(self):\n        print(\"batch\", self.batch_number)\n        print(\"course\", self.course_n)\n        \n        \ns1 = student(4,5,6)\n\ns1.batch_number = \"2\"\ns1.course_n = \"data\"\n\n\ns1.batch()\ns1.course()\ns1.show()\n\n\n\no/p:\n    \n2\ndata\nbatch : 2\ncourse : data",
      "metadata": {
        "trusted": true
      },
      "execution_count": null,
      "outputs": []
    },
    {
      "cell_type": "code",
      "source": "class person:\n    name_person = \"maniteja\"\n    \n    def func(self):\n        print(\"i am searching for :\" self.name_person)\n    \n    \nclass company:\n    companydetails = \"ineuron\"\n    def func1(self):\n        print(\"the company name is :\", self.companydetails)\n        \n    \n    \nclass employee:\n    def show(self):\n        print(Self.name_person \"works for the companyh name called \"self.companydetails\")\n              \n              ",
      "metadata": {},
      "execution_count": null,
      "outputs": []
    },
    {
      "cell_type": "code",
      "source": "###Multi-level inheritance:\n\n\nclass test1:\n    def a(self):\n        print(\"im insdie test1, parenmt class\")\n        \n        \n        \nclass test2(test1):\n    def b(self):\n        print(\"im inside test2, child1\")\n        \n        \n\nclass test3(test2):\n    def c(self):\n        print(\"im inside testw3, child2\")\n        \n        \ntt = test3()\n\ntt.a()\ntt.b()\ntt.c()",
      "metadata": {},
      "execution_count": null,
      "outputs": []
    },
    {
      "cell_type": "code",
      "source": "class vehicle:\n    def info(self):\n        print(\"Inside vehicle class\")\n    \nclass car(vehicle):\n    def carinfo(self):\n        print(\"Insode car class\")\n        \nclass sportscar(car):\n    def sportcarinfo(self):\n        print(\"inside sports car\")\n        \n        \nsc = sportscar()\n\nsc.info()\nsc.carinfo()\nsc.sportscarinfo()\n\n\n",
      "metadata": {
        "trusted": true
      },
      "execution_count": null,
      "outputs": []
    },
    {
      "cell_type": "code",
      "source": "class phones:\n    def __init__(self, brand,model,price):\n        self.brand = brand\n        self.model = model\n        self.price = price\n    \n    def spec(self):\n        print(\"brand\", self.brand  , \"price\",self.price)\n    \n    def typeofphone(self):\n        if self.price < 20000 :\n            print(\"budeget mobile\")\n        else :\n            print(\"midernage mobile\")\n        \n        \nclass smartphone(phones):\n    def __init__(self,brand,model,price,ram,storage):\n        super().__init__(brand,model,price)                 # super will inherit the parent class variables, no need pf giving variables separetly\n        self.ram = ram\n        self.storage = storage\n    \n    \n    \nclass flagship(smartphone):\n    def __init__(self,brand,model,price,ram,storage,fcam,rcam,display):\n        super().__init__(brand,model,price,ram,storage)\n        self.facm = fcam\n        self.rcam = rcam\n        self.display = display\n        \n        \n        \nf1 = flagship(\"samsung\",\"m52\",26000,\"4GB\",\"256GB\",4,5,5.5)\nf1.spec()\nf1.typeofphone()",
      "metadata": {},
      "execution_count": null,
      "outputs": []
    },
    {
      "cell_type": "code",
      "source": "######## hirerachical Level inheritance\n\nclass vehicle:\n    def info(self):\n        print(\"this is vehicle class , parent class\")\n        \nclass car(vehicle):\n    def car_info(self, name):\n        print(\"car child1class\", name)\n        \n        \nclass truck(vehicle):\n    def truckinfo(self, name):\n        print(\"truck child class3\", name)\n        \n        \n\nc1 = car()\nc.info()\nc1.car_info(\"nano\")\n\n\nt1 = truck()\nt1.truck_inf(\"ashokleyland\")\nt1.info()\n\n",
      "metadata": {},
      "execution_count": null,
      "outputs": []
    },
    {
      "cell_type": "code",
      "source": "######## ###Hybrid inheritance\n\nclass vehicle:\n    def info(self):\n        print(\"this is vehicle class , parent class\")\n        \nclass car(vehicle):\n    def car_info(self, name):\n        print(\"car child1class\", name)\n        \n        \nclass truck(vehicle):\n    def truckinfo(self, name):\n        print(\"truck child class3\", name)\n        \n        \n        \nclass sportscar(car,vehicle):\n    defsport(self):\n        print(\"inside from sportscar\")        \n        \nd1 = sportscar()\nd1.",
      "metadata": {},
      "execution_count": null,
      "outputs": []
    },
    {
      "cell_type": "code",
      "source": "#super class\n\n#Super is used when we need to build classes(child class) that extend the functionality of previously build classes(parent class)\n#super function is used to access methods of m=immediate parent class\n\n\n\nclass company:\n    def company_name(self):\n        return \"ineuron\"\n\n\nclass Employee(company):\n    def info(self):\n        c_name = super().company_name()\n        print(\"i work at \", c_name)\n        \n        \nemp = Employee()\nemp.company_name()\nemp.info()",
      "metadata": {
        "trusted": true
      },
      "execution_count": null,
      "outputs": []
    },
    {
      "cell_type": "code",
      "source": "# when you intialize a child in python you can call super().__init__() method this intializze the parent class obj into child class\n\n\nclass parent():\n    def __init__(self,v1,v2):\n        self.v1 =v1\n        self.v2 =v2\n        \nclass child(parent):\n    def __init__(self,v1,v2,v3):\n        super().__init__(v1,v2)\n        self.v3=v3\n      \n    \nc1 = child(2,3,4)",
      "metadata": {
        "trusted": true
      },
      "execution_count": null,
      "outputs": []
    },
    {
      "cell_type": "code",
      "source": "#syntax super:\n\nclass classname(parntclass):\n    def method (self, arg):\n        super([classname],[self]).method(#parentmethod)  #classname by default its set to praentclass\n            \n            \n",
      "metadata": {},
      "execution_count": null,
      "outputs": []
    },
    {
      "cell_type": "code",
      "source": "class parent:\n    def __init__(self):\n        print(\"this is parent class)\n              \nclass parent1:\n    def __init__(self):\n        print(\"this is parent1 class)\n              \n              \nclass parent2:\n    def __init__(self):\n        print(\"this is parent2 class)\n              \nclass child(parent,parent1,parent2):\n    def __init__(self):\n        super().__init__()\n              \n              \nc1 = child()",
      "metadata": {
        "trusted": true
      },
      "execution_count": null,
      "outputs": []
    },
    {
      "cell_type": "code",
      "source": "",
      "metadata": {},
      "execution_count": null,
      "outputs": []
    }
  ]
}